{
 "cells": [
  {
   "cell_type": "code",
   "execution_count": 17,
   "metadata": {},
   "outputs": [],
   "source": [
    "from flask import Flask, render_template, request, jsonify\n",
    "import os\n",
    "import cv2\n",
    "import numpy as np\n",
    "from tensorflow.lite.python.interpreter import Interpreter\n",
    "\n",
    "app = Flask(__name__)\n",
    "\n",
    "def tflite_detect_objects(model_path, image, labels_path, min_conf=0.5):\n",
    "    # Load the label map into memory\n",
    "    with open(labels_path, 'r') as f:\n",
    "        labels = [line.strip() for line in f.readlines()]\n",
    "\n",
    "    # Load the TensorFlow Lite model into memory\n",
    "    interpreter = Interpreter(model_path=model_path)\n",
    "    interpreter.allocate_tensors()\n",
    "\n",
    "    # Get model details\n",
    "    input_details = interpreter.get_input_details()\n",
    "    output_details = interpreter.get_output_details()\n",
    "    height = input_details[0]['shape'][1]\n",
    "    width = input_details[0]['shape'][2]\n",
    "\n",
    "    # Load image and resize to expected shape [1xHxWx3]\n",
    "    imH, imW, _ = image.shape\n",
    "    image_resized = cv2.resize(image, (width, height))\n",
    "    input_data = np.expand_dims(image_resized, axis=0)\n",
    "\n",
    "    # Normalize pixel values\n",
    "    input_mean = 127.5\n",
    "    input_std = 127.5\n",
    "    input_data = (np.float32(input_data) - input_mean) / input_std\n",
    "\n",
    "    # Set input tensor\n",
    "    interpreter.set_tensor(input_details[0]['index'], input_data)\n",
    "\n",
    "    # Run inference\n",
    "    interpreter.invoke()\n",
    "\n",
    "    # Retrieve detection results\n",
    "    boxes = interpreter.get_tensor(output_details[1]['index'])[0] # Bounding box coordinates of detected objects\n",
    "    classes = interpreter.get_tensor(output_details[3]['index'])[0] # Class index of detected objects\n",
    "    scores = interpreter.get_tensor(output_details[0]['index'])[0] # Confidence of detected objects\n",
    "\n",
    "    detections = []\n",
    "\n",
    "    # Loop over all detections and store if confidence is above minimum threshold\n",
    "    for i in range(len(scores)):\n",
    "        if ((scores[i] > min_conf) and (scores[i] <= 1.0)):\n",
    "            ymin = int(max(1,(boxes[i][0] * imH)))\n",
    "            xmin = int(max(1,(boxes[i][1] * imW)))\n",
    "            ymax = int(min(imH,(boxes[i][2] * imH)))\n",
    "            xmax = int(min(imW,(boxes[i][3] * imW)))\n",
    "            object_name = labels[int(classes[i])] # Look up object name from \"labels\" array using class index\n",
    "            confidence = scores[i]\n",
    "            detections.append({'label': object_name, 'confidence': confidence, 'bbox': [xmin, ymin, xmax, ymax]})\n",
    "\n",
    "    return detections\n",
    "\n",
    "@app.route('/', methods=['GET', 'POST'])\n",
    "def index():\n",
    "    if request.method == 'POST':\n",
    "        # Mendapatkan data dari form\n",
    "        model_path = 'model/model-fix-final.tflite'\n",
    "        labels_path = 'labelmap.txt'\n",
    "        min_conf = 0.5\n",
    "\n",
    "        # Mendapatkan gambar yang diunggah\n",
    "        image_file = request.files['image']\n",
    "        \n",
    "        # Membaca gambar yang diunggah\n",
    "        image = cv2.imdecode(np.frombuffer(image_file.read(), np.uint8), cv2.IMREAD_COLOR)\n",
    "\n",
    "        # Memanggil fungsi deteksi objek\n",
    "        results = tflite_detect_objects(model_path, image, labels_path, min_conf)\n",
    "\n",
    "        # Mengembalikan hasil deteksi dalam format JSON\n",
    "        return jsonify(results)\n",
    "\n",
    "    return render_template('index.html')\n",
    "\n",
    "if __name__ == '__main__':\n",
    "    app.run(debug=True)"
   ]
  },
  {
   "cell_type": "code",
   "execution_count": 21,
   "metadata": {},
   "outputs": [
    {
     "data": {
      "text/plain": [
       "[{'label': 'kangkung', 'confidence': 0.96620977, 'bbox': [139, 101, 614, 385]}]"
      ]
     },
     "execution_count": 21,
     "metadata": {},
     "output_type": "execute_result"
    }
   ],
   "source": [
    "tflite_detect_objects(model_path='model/model-fix-final.tflite', image=cv2.imread('cah-kangkung-telur-puyuh.jpg'), labels_path='labelmap.txt', min_conf=0.5)"
   ]
  },
  {
   "cell_type": "code",
   "execution_count": null,
   "metadata": {},
   "outputs": [],
   "source": []
  }
 ],
 "metadata": {
  "kernelspec": {
   "display_name": "tf-gpu",
   "language": "python",
   "name": "python3"
  },
  "language_info": {
   "codemirror_mode": {
    "name": "ipython",
    "version": 3
   },
   "file_extension": ".py",
   "mimetype": "text/x-python",
   "name": "python",
   "nbconvert_exporter": "python",
   "pygments_lexer": "ipython3",
   "version": "3.9.18"
  }
 },
 "nbformat": 4,
 "nbformat_minor": 2
}
